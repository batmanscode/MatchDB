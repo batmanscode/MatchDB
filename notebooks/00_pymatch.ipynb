{
 "cells": [
  {
   "cell_type": "code",
   "execution_count": null,
   "metadata": {},
   "outputs": [],
   "source": [
    "#| default_exp pymatch"
   ]
  },
  {
   "cell_type": "markdown",
   "metadata": {},
   "source": [
    "# PyMatch Core\n",
    "\n",
    "> Suggesting people to connect with based on shared interests"
   ]
  },
  {
   "cell_type": "markdown",
   "metadata": {},
   "source": [
    "**PyMatch is a database of users and their interests. Given a user from its database, it will search and return others with matching/mutual interests**"
   ]
  },
  {
   "cell_type": "markdown",
   "metadata": {},
   "source": [
    "### What data will be stored?\n",
    "\n",
    "*Note: This project is using a serverless NoSQL database called Base by deta.sh. It's free, has unlimited storage and is easy to use!*\n",
    "\n",
    "- Dates are UTC in the format `dd-mm-yyyy hh:00`, in code this is %d-%m-%Y %H:00 (see [Python strftime cheatsheet](https://strftime.org/) for more formats).\n",
    "- `user_id` is a unique identifier for each user.\n",
    "- [ULIDs (Universally Unique Lexicographically Sortable Identifiers)](https://github.com/ahawker/ulid) are used as keys and order is is preserved since data in Bases are ordered by key; `key` is required by Deta and needs to be unique.\n",
    "- Interests are a list of strings.\n",
    "<br>\n",
    "\n",
    "\n",
    "**Users**\n",
    "\n",
    "Info stored for each user\n",
    "\n",
    "```\n",
    "[{'date': '02-10-2022 17:00',\n",
    "  'key': '01BJQMF54D093DXEAWZ6JYRPAQ,\n",
    "  'user id': `1111`,\n",
    "  'name': 'cameronson the 69th',\n",
    "  'interests': ['MMA', 'memes', 'Uk', 'tea']}]\n",
    "```"
   ]
  },
  {
   "cell_type": "code",
   "execution_count": null,
   "metadata": {},
   "outputs": [],
   "source": [
    "#|export\n",
    "\n",
    "from datetime import datetime\n",
    "import time\n",
    "from deta import Deta\n",
    "import pandas as pd\n",
    "import os\n",
    "import ulid\n",
    "from typing import Optional, List"
   ]
  },
  {
   "cell_type": "markdown",
   "metadata": {},
   "source": [
    "A Deta project key is needed"
   ]
  },
  {
   "cell_type": "code",
   "execution_count": null,
   "metadata": {},
   "outputs": [],
   "source": [
    "#|export\n",
    "\n",
    "def deta_init(\n",
    "    project_key: str # the name of the environment variable\n",
    "):\n",
    "    \"Initialize with a Deta project key\"\n",
    "\n",
    "    deta = Deta(os.environ[\"PROJECT_KEY\"])\n",
    "    \n",
    "    return deta"
   ]
  },
  {
   "cell_type": "markdown",
   "metadata": {},
   "source": [
    "## Users"
   ]
  },
  {
   "cell_type": "markdown",
   "metadata": {},
   "source": [
    "### Add"
   ]
  },
  {
   "cell_type": "code",
   "execution_count": null,
   "metadata": {},
   "outputs": [],
   "source": [
    "#|export\n",
    "\n",
    "def add_someone(name: Optional[str],\n",
    "                username: str, \n",
    "                user_id: str, # unique identifier to authenticate users\n",
    "                interests: List[str], \n",
    "                database_name: str # create or connect to an existing database\n",
    "                ):\n",
    "\n",
    "    \"Add a new user\"\n",
    "\n",
    "    db = deta.Base(database_name)\n",
    "\n",
    "    user = db.put(\n",
    "        {\n",
    "            'key': ulid.new().str,\n",
    "            \"date\": datetime.now().strftime(\"%d-%m-%Y %H:00\"),\n",
    "            \"user id\": user_id,\n",
    "            'name': name,\n",
    "            'interests': interests\n",
    "            }\n",
    "    )\n",
    "\n",
    "    return user"
   ]
  },
  {
   "cell_type": "markdown",
   "metadata": {},
   "source": [
    "### Find"
   ]
  },
  {
   "cell_type": "code",
   "execution_count": null,
   "metadata": {},
   "outputs": [],
   "source": [
    "#|export\n",
    "\n",
    "def find_by_userid(user_id: str):\n",
    "    \"Find a user from thier user_id\"\n",
    "\n",
    "    db = deta.Base(database_name)\n",
    "\n",
    "    user = db.fetch(\n",
    "        {\n",
    "        \"user id\": user_id\n",
    "        }\n",
    "    ).items\n",
    "\n",
    "    if bool(user):\n",
    "        return user\n",
    "    else:\n",
    "        print(\"user doesn't exist\")"
   ]
  },
  {
   "cell_type": "markdown",
   "metadata": {},
   "source": [
    "### Delete"
   ]
  },
  {
   "cell_type": "code",
   "execution_count": null,
   "metadata": {},
   "outputs": [],
   "source": [
    "#|export\n",
    "\n",
    "def delete_user(user_id: str):\n",
    "    \"Deletes an entry using thier user_id if they exist\"\n",
    "\n",
    "    db = deta.Base(database_name)\n",
    "\n",
    "    delete = db.fetch(\n",
    "        {\n",
    "        \"user id\": user_id\n",
    "        }\n",
    "    ).items\n",
    "\n",
    "    # if exists, delete\n",
    "    if bool(delete):\n",
    "        key = delete[0][\"key\"]\n",
    "        db.delete(key)\n",
    "        print(f\"user {user_id} deleted from {database_name}\")\n",
    "    else:\n",
    "        print(f\"user {user_id} not in {database_name}\")"
   ]
  },
  {
   "cell_type": "markdown",
   "metadata": {},
   "source": [
    "## Match"
   ]
  },
  {
   "cell_type": "code",
   "execution_count": null,
   "metadata": {},
   "outputs": [],
   "source": [
    "#|export\n",
    "\n",
    "def match_interests(user_id: str, database_name: str):\n",
    "    \"Match users to a given user_id and return names and common/shared interests\"\n",
    "\n",
    "    db = deta.Base(database_name)\n",
    "\n",
    "    # get interests for a user\n",
    "    interests = users.get(user_id)['interests']\n",
    "\n",
    "    # match\n",
    "    match = users.fetch([{'interests?contains' : item} for item in interests]).items\n",
    "\n",
    "    name = item['name']\n",
    "    common_interests = set(interests) & set(item['interests'])\n",
    "\n",
    "    matches = []\n",
    "    for item in match:\n",
    "        matches.append(\n",
    "            {\n",
    "                'name': item['name'],\n",
    "                'common interests': set(interests) & set(item['interests'])\n",
    "            }\n",
    "        )\n",
    "\n",
    "    return matches"
   ]
  },
  {
   "cell_type": "markdown",
   "metadata": {},
   "source": [
    "## Stats"
   ]
  },
  {
   "cell_type": "markdown",
   "metadata": {},
   "source": [
    "### Get whole database"
   ]
  },
  {
   "cell_type": "code",
   "execution_count": null,
   "metadata": {},
   "outputs": [],
   "source": [
    "#|export\n",
    "\n",
    "def database_exists(database_name: str):\n",
    "    \"check if db exists by checking if there's at least one item\"\n",
    "\n",
    "    db = deta.Base(database_name)\n",
    "\n",
    "    if db.fetch(limit=1).items:\n",
    "        return True\n",
    "    else:\n",
    "        raise NameError(f\"{database_name} doesn't exist\")"
   ]
  },
  {
   "cell_type": "code",
   "execution_count": null,
   "metadata": {},
   "outputs": [],
   "source": [
    "#|export\n",
    "\n",
    "def fetch_all(database_name: str):\n",
    "    \"\"\"\n",
    "    fetches the whole database\n",
    "\n",
    "    this is from deta's docs: https://docs.deta.sh/docs/base/sdk/#fetch-all-items-1\n",
    "\n",
    "    uses `database_exists`\n",
    "    \"\"\"\n",
    "\n",
    "    database_exists(database_name) # will create error if db doesn't exist\n",
    "\n",
    "    db = deta.Base(database_name)\n",
    "    \n",
    "    res = db.fetch()\n",
    "    all_items = res.items\n",
    "\n",
    "    # fetch until last is 'None'\n",
    "    while res.last:\n",
    "        res = db.fetch(last=res.last)\n",
    "        all_items += res.items   \n",
    "\n",
    "    return all_items"
   ]
  },
  {
   "cell_type": "code",
   "execution_count": null,
   "metadata": {},
   "outputs": [],
   "source": [
    "#|export\n",
    "\n",
    "def database_to_dataframe(database_name: str):\n",
    "    \"\"\"\n",
    "    fetches the whole database and converts it to a pandas dataframe\n",
    "\n",
    "    uses `fetch_all`\n",
    "    \"\"\"\n",
    "\n",
    "    import pandas as pd\n",
    "\n",
    "    all_items = fetch_all(database_name=database_name)\n",
    "\n",
    "    return pd.DataFrame.from_dict(all_items)"
   ]
  },
  {
   "cell_type": "markdown",
   "metadata": {},
   "source": [
    "### Count interests"
   ]
  },
  {
   "cell_type": "code",
   "execution_count": null,
   "metadata": {},
   "outputs": [],
   "source": [
    "#|export\n",
    "\n",
    "def count_interests(database_name: str ='users'):\n",
    "    \"\"\"\n",
    "    Shows each interest and how many times they occur. If needed, this can work for any column that contains a list of strings.\n",
    "\n",
    "    Uses `database_to_dataframe`\n",
    "    \"\"\"\n",
    "\n",
    "    count = []\n",
    "    for item in database_to_dataframe(database_name)['interests'].explode().value_counts():\n",
    "        count.append(item.to_dict())\n",
    "\n",
    "    return count"
   ]
  },
  {
   "cell_type": "code",
   "execution_count": null,
   "metadata": {},
   "outputs": [],
   "source": [
    "#|export\n",
    "\n",
    "def interestcount_to_dataframe(database_name: str ='users'):\n",
    "    \"\"\"\n",
    "    Get interest counts as a pandas dataframe\n",
    "\n",
    "    Uses `database_to_dataframe`\n",
    "    \"\"\"\n",
    "\n",
    "    # https://re-thought.com/pandas-value_counts/\n",
    "\n",
    "    value_counts = database_to_dataframe(database_name)['interests'].explode().value_counts()\n",
    "\n",
    "    # converting to df and assigning new names to the columns\n",
    "    df_value_counts = pd.DataFrame(value_counts)\n",
    "    df_value_counts = df_value_counts.reset_index()\n",
    "    df_value_counts.columns = ['interests', 'count'] # change column names\n",
    "    \n",
    "    return df_value_counts"
   ]
  },
  {
   "cell_type": "markdown",
   "metadata": {},
   "source": [
    "### User stats"
   ]
  },
  {
   "cell_type": "code",
   "execution_count": null,
   "metadata": {},
   "outputs": [],
   "source": [
    "#|export\n",
    "\n",
    "def total_users(database_name: str):\n",
    "    \"Count total users. Uses `fetch_all`\"\n",
    "\n",
    "    return len(fetch_all(database_name))"
   ]
  },
  {
   "cell_type": "code",
   "execution_count": null,
   "metadata": {},
   "outputs": [],
   "source": [
    "#| hide\n",
    "import nbdev; nbdev.nbdev_export()"
   ]
  }
 ],
 "metadata": {
  "kernelspec": {
   "display_name": "Python 3 (ipykernel)",
   "language": "python",
   "name": "python3"
  }
 },
 "nbformat": 4,
 "nbformat_minor": 4
}
