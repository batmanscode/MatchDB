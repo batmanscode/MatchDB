{
 "cells": [
  {
   "cell_type": "markdown",
   "metadata": {},
   "source": [
    "# Welcome to MatchDB\n",
    "\n",
    "> Suggesting people to connect with based on shared interests"
   ]
  },
  {
   "cell_type": "markdown",
   "metadata": {},
   "source": [
    "*This is a light wrapper around deta.space's serverless database, Base.*\n",
    "\n",
    "**MatchDB is a database of people and their interests. Use it to manage profiles and connect people who share interests.**\n",
    "\n",
    "The main motivation was to help to connect people in large Slack/Discord servers in the remote working community."
   ]
  },
  {
   "cell_type": "markdown",
   "metadata": {},
   "source": [
    "## Install"
   ]
  },
  {
   "cell_type": "markdown",
   "metadata": {},
   "source": [
    "```sh\n",
    "pip install matchdb\n",
    "```"
   ]
  },
  {
   "cell_type": "markdown",
   "metadata": {},
   "source": [
    "```sh\n",
    "# to get the latest version\n",
    "pip install git+https://github.com/batmanscode/MatchDB.git\n",
    "```"
   ]
  },
  {
   "cell_type": "markdown",
   "metadata": {},
   "source": [
    "```sh\n",
    "# install from source\n",
    "git clone https://github.com/batmanscode/MatchDB.git\n",
    "```"
   ]
  },
  {
   "cell_type": "markdown",
   "metadata": {},
   "source": [
    "## How to use"
   ]
  },
  {
   "cell_type": "markdown",
   "metadata": {},
   "source": [
    "**Here's a brief quickstart guide. Please read the [complete documentation](https://batmanscode.github.io/MatchDB/pymatch.html) to see everything you can do!**"
   ]
  },
  {
   "cell_type": "markdown",
   "metadata": {},
   "source": [
    "First, let's create a new project on deta.space and save your project key to the environment variable `\"DETA_PROJECT_KEY\"`"
   ]
  },
  {
   "cell_type": "markdown",
   "metadata": {},
   "source": [
    "I've already created an environment variable but you can add it like this if you haven't:"
   ]
  },
  {
   "cell_type": "code",
   "execution_count": null,
   "metadata": {},
   "outputs": [],
   "source": [
    "# | eval: false\n",
    "\n",
    "# import os\n",
    "\n",
    "# os.environ[\"DETA_PROJECT_KEY\"] = \"...\""
   ]
  },
  {
   "cell_type": "code",
   "execution_count": null,
   "metadata": {},
   "outputs": [],
   "source": [
    "from matchdb.matchdb import *"
   ]
  },
  {
   "cell_type": "markdown",
   "metadata": {},
   "source": [
    "Next, create a name for your database. This will be visible in your project on deta.space.\n",
    "\n",
    "I'll define it globally here since I'll be using just one database but you can create as many as you like!"
   ]
  },
  {
   "cell_type": "code",
   "execution_count": null,
   "metadata": {},
   "outputs": [],
   "source": [
    "DATABASE = \"users\""
   ]
  },
  {
   "cell_type": "markdown",
   "metadata": {},
   "source": [
    "### Adding users"
   ]
  },
  {
   "cell_type": "markdown",
   "metadata": {},
   "source": [
    "Let's add two users"
   ]
  },
  {
   "cell_type": "code",
   "execution_count": null,
   "metadata": {},
   "outputs": [],
   "source": [
    "add_interests(user_id=1111,\n",
    "              group_id=2222,\n",
    "              interests=['MMA', 'memes', 'Uk', 'tea'],\n",
    "              database_name=DATABASE\n",
    "             )"
   ]
  },
  {
   "cell_type": "code",
   "execution_count": null,
   "metadata": {},
   "outputs": [
    {
     "data": {
      "text/plain": [
       "[{'date': '14-02-2023 06:00',\n",
       "  'group_id': 2222,\n",
       "  'interests': ['uk', 'memes', 'tea', 'mma'],\n",
       "  'key': '01GS7ASNBN7BMKCFPTCV45VWBT',\n",
       "  'user_id': 1111}]"
      ]
     },
     "execution_count": null,
     "metadata": {},
     "output_type": "execute_result"
    }
   ],
   "source": [
    "find_user(1111, DATABASE)"
   ]
  },
  {
   "cell_type": "code",
   "execution_count": null,
   "metadata": {},
   "outputs": [],
   "source": [
    "add_interests(user_id=3333,\n",
    "              group_id=2222,\n",
    "              interests=['anime', 'memes', 'ireland', 'coffee'],\n",
    "              database_name=DATABASE\n",
    "             )"
   ]
  },
  {
   "cell_type": "code",
   "execution_count": null,
   "metadata": {},
   "outputs": [
    {
     "data": {
      "text/plain": [
       "[{'date': '14-02-2023 06:00',\n",
       "  'group_id': 2222,\n",
       "  'interests': ['ireland', 'anime', 'memes', 'coffee'],\n",
       "  'key': '01GS7ASNGBHHPK4YMBEHN1REEZ',\n",
       "  'user_id': 3333}]"
      ]
     },
     "execution_count": null,
     "metadata": {},
     "output_type": "execute_result"
    }
   ],
   "source": [
    "find_user(3333, DATABASE)"
   ]
  },
  {
   "cell_type": "markdown",
   "metadata": {},
   "source": [
    "### Match"
   ]
  },
  {
   "cell_type": "code",
   "execution_count": null,
   "metadata": {},
   "outputs": [],
   "source": [
    "match_list = match_interests(1111, DATABASE)"
   ]
  },
  {
   "cell_type": "markdown",
   "metadata": {},
   "source": [
    "This will show evreyone who has common interests with useer `1111`, including themselves!"
   ]
  },
  {
   "cell_type": "code",
   "execution_count": null,
   "metadata": {},
   "outputs": [
    {
     "data": {
      "text/plain": [
       "[{'group_id': 2222,\n",
       "  'user_id': 1111,\n",
       "  'common interests': ['uk', 'memes', 'tea', 'mma'],\n",
       "  'common interests count': 4},\n",
       " {'group_id': 2222,\n",
       "  'user_id': 3333,\n",
       "  'common interests': ['memes'],\n",
       "  'common interests count': 1}]"
      ]
     },
     "execution_count": null,
     "metadata": {},
     "output_type": "execute_result"
    }
   ],
   "source": [
    "match_list"
   ]
  },
  {
   "cell_type": "markdown",
   "metadata": {},
   "source": [
    "You can exclude the user you are finding matches for like this:"
   ]
  },
  {
   "cell_type": "code",
   "execution_count": null,
   "metadata": {},
   "outputs": [],
   "source": [
    "user = 1111\n",
    "\n",
    "match_list = match_interests(1111, DATABASE)"
   ]
  },
  {
   "cell_type": "code",
   "execution_count": null,
   "metadata": {},
   "outputs": [],
   "source": [
    "# for other ways to do this see here:\n",
    "# https://www.geeksforgeeks.org/python-removing-dictionary-from-list-of-dictionaries/\n",
    "match_list = [item for item in match_list if not (item[\"user_id\"]==user)]"
   ]
  },
  {
   "cell_type": "code",
   "execution_count": null,
   "metadata": {},
   "outputs": [
    {
     "data": {
      "text/plain": [
       "[{'group_id': 2222,\n",
       "  'user_id': 3333,\n",
       "  'common interests': ['memes'],\n",
       "  'common interests count': 1}]"
      ]
     },
     "execution_count": null,
     "metadata": {},
     "output_type": "execute_result"
    }
   ],
   "source": [
    "match_list"
   ]
  },
  {
   "cell_type": "markdown",
   "metadata": {},
   "source": [
    "### Get your whole database"
   ]
  },
  {
   "cell_type": "code",
   "execution_count": null,
   "metadata": {},
   "outputs": [
    {
     "data": {
      "text/html": [
       "<div>\n",
       "<style scoped>\n",
       "    .dataframe tbody tr th:only-of-type {\n",
       "        vertical-align: middle;\n",
       "    }\n",
       "\n",
       "    .dataframe tbody tr th {\n",
       "        vertical-align: top;\n",
       "    }\n",
       "\n",
       "    .dataframe thead th {\n",
       "        text-align: right;\n",
       "    }\n",
       "</style>\n",
       "<table border=\"1\" class=\"dataframe\">\n",
       "  <thead>\n",
       "    <tr style=\"text-align: right;\">\n",
       "      <th></th>\n",
       "      <th>date</th>\n",
       "      <th>group_id</th>\n",
       "      <th>interests</th>\n",
       "      <th>key</th>\n",
       "      <th>user_id</th>\n",
       "    </tr>\n",
       "  </thead>\n",
       "  <tbody>\n",
       "    <tr>\n",
       "      <th>0</th>\n",
       "      <td>14-02-2023 06:00</td>\n",
       "      <td>2222</td>\n",
       "      <td>[uk, memes, tea, mma]</td>\n",
       "      <td>01GS7ASNBN7BMKCFPTCV45VWBT</td>\n",
       "      <td>1111</td>\n",
       "    </tr>\n",
       "    <tr>\n",
       "      <th>1</th>\n",
       "      <td>14-02-2023 06:00</td>\n",
       "      <td>2222</td>\n",
       "      <td>[ireland, anime, memes, coffee]</td>\n",
       "      <td>01GS7ASNGBHHPK4YMBEHN1REEZ</td>\n",
       "      <td>3333</td>\n",
       "    </tr>\n",
       "  </tbody>\n",
       "</table>\n",
       "</div>"
      ],
      "text/plain": [
       "               date  group_id                        interests  \\\n",
       "0  14-02-2023 06:00      2222            [uk, memes, tea, mma]   \n",
       "1  14-02-2023 06:00      2222  [ireland, anime, memes, coffee]   \n",
       "\n",
       "                          key  user_id  \n",
       "0  01GS7ASNBN7BMKCFPTCV45VWBT     1111  \n",
       "1  01GS7ASNGBHHPK4YMBEHN1REEZ     3333  "
      ]
     },
     "execution_count": null,
     "metadata": {},
     "output_type": "execute_result"
    }
   ],
   "source": [
    "database_to_dataframe(DATABASE)"
   ]
  },
  {
   "cell_type": "markdown",
   "metadata": {},
   "source": [
    "### Count unique interests"
   ]
  },
  {
   "cell_type": "code",
   "execution_count": null,
   "metadata": {},
   "outputs": [
    {
     "data": {
      "text/html": [
       "<div>\n",
       "<style scoped>\n",
       "    .dataframe tbody tr th:only-of-type {\n",
       "        vertical-align: middle;\n",
       "    }\n",
       "\n",
       "    .dataframe tbody tr th {\n",
       "        vertical-align: top;\n",
       "    }\n",
       "\n",
       "    .dataframe thead th {\n",
       "        text-align: right;\n",
       "    }\n",
       "</style>\n",
       "<table border=\"1\" class=\"dataframe\">\n",
       "  <thead>\n",
       "    <tr style=\"text-align: right;\">\n",
       "      <th></th>\n",
       "      <th>interests</th>\n",
       "      <th>count</th>\n",
       "    </tr>\n",
       "  </thead>\n",
       "  <tbody>\n",
       "    <tr>\n",
       "      <th>0</th>\n",
       "      <td>memes</td>\n",
       "      <td>2</td>\n",
       "    </tr>\n",
       "    <tr>\n",
       "      <th>1</th>\n",
       "      <td>ireland</td>\n",
       "      <td>1</td>\n",
       "    </tr>\n",
       "    <tr>\n",
       "      <th>2</th>\n",
       "      <td>anime</td>\n",
       "      <td>1</td>\n",
       "    </tr>\n",
       "    <tr>\n",
       "      <th>3</th>\n",
       "      <td>tea</td>\n",
       "      <td>1</td>\n",
       "    </tr>\n",
       "    <tr>\n",
       "      <th>4</th>\n",
       "      <td>coffee</td>\n",
       "      <td>1</td>\n",
       "    </tr>\n",
       "    <tr>\n",
       "      <th>5</th>\n",
       "      <td>uk</td>\n",
       "      <td>1</td>\n",
       "    </tr>\n",
       "    <tr>\n",
       "      <th>6</th>\n",
       "      <td>mma</td>\n",
       "      <td>1</td>\n",
       "    </tr>\n",
       "  </tbody>\n",
       "</table>\n",
       "</div>"
      ],
      "text/plain": [
       "  interests  count\n",
       "0     memes      2\n",
       "1   ireland      1\n",
       "2     anime      1\n",
       "3       tea      1\n",
       "4    coffee      1\n",
       "5        uk      1\n",
       "6       mma      1"
      ]
     },
     "execution_count": null,
     "metadata": {},
     "output_type": "execute_result"
    }
   ],
   "source": [
    "interestcount_to_dataframe(DATABASE)"
   ]
  },
  {
   "cell_type": "markdown",
   "metadata": {},
   "source": [
    "## How to contribute"
   ]
  },
  {
   "cell_type": "markdown",
   "metadata": {},
   "source": [
    "1. Fork\n",
    "2. Install (more on this below)\n",
    "3. Make changes in `./notebooks`\n",
    "\n",
    "In the terminal:\n",
    "\n",
    "4. [`nbdev_preview`](https://nbdev.fast.ai/tutorials/tutorial.html#preview-your-docs) to preview docs\n",
    "5. [`nbdev_prepare`](https://nbdev.fast.ai/tutorials/tutorial.html#prepare-your-changes) (very important)\n",
    "\n",
    "And finally:\n",
    "\n",
    "6. Pull request!"
   ]
  },
  {
   "cell_type": "markdown",
   "metadata": {},
   "source": [
    "Please go though [nbdev](https://nbdev.fast.ai/) docs. Their [end-to-end tutorial](https://nbdev.fast.ai/tutorials/tutorial.html) will show you most of what you need to know."
   ]
  },
  {
   "cell_type": "markdown",
   "metadata": {},
   "source": [
    "### Installing for development"
   ]
  },
  {
   "cell_type": "markdown",
   "metadata": {},
   "source": [
    "#### Codespaces/VSCode"
   ]
  },
  {
   "cell_type": "markdown",
   "metadata": {},
   "source": [
    "Everything you need will be installed when you open Codespaces/VSCode; specified in `.devcontainer/`"
   ]
  },
  {
   "cell_type": "markdown",
   "metadata": {},
   "source": [
    "Notes for Codespaces:\n",
    "\n",
    "- Currently Jupyter notebook doesn't work on Codespaces for an unknown reason, or at least I can't, so you'll have to use JupyterLab\n",
    "- Open with `jupyter lab --NotebookApp.allow_origin='*' --NotebookApp.ip='0.0.0.0'`\n",
    "- For more info on using see https://code.visualstudio.com/docs/datascience/notebooks-web"
   ]
  },
  {
   "cell_type": "markdown",
   "metadata": {},
   "source": [
    "#### Local"
   ]
  },
  {
   "cell_type": "markdown",
   "metadata": {},
   "source": [
    "You'll need to install Jupyter and [nbdev](https://nbdev.fast.ai/tutorials/tutorial.html) at minimum. You can do that with the following terminal commands:\n",
    "\n",
    "```sh\n",
    "pip install notebook\n",
    "pip install nbdev\n",
    "nbdev_install_quarto\n",
    "nbdev_install_hooks\n",
    "```\n",
    "\n",
    "For convenience, you can install all these and optional Jupyter extensions with:\n",
    "```sh\n",
    "cd MatchDB\n",
    "bash ./.devcontainer/postCreateCommand.sh\n",
    "```\n",
    "\n",
    "Then install MatchDB in editable mode with `pip install MatchDB/requirements.txt`"
   ]
  }
 ],
 "metadata": {
  "kernelspec": {
   "display_name": "python3",
   "language": "python",
   "name": "python3"
  }
 },
 "nbformat": 4,
 "nbformat_minor": 4
}
